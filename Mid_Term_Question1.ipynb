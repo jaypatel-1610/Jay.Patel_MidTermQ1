{
 "cells": [
  {
   "cell_type": "markdown",
   "id": "c990b1ac-5230-4f80-9737-b50722b45fdc",
   "metadata": {},
   "source": [
    "<b>_int()__: Constructor that takes as input a pair of Point objects that represent the ends points of the line segment\n",
    "\n",
    "<b>Length():: returns the length if the segment \n",
    "\n",
    "<b>Slope() returns the slope of the segment of none if the slope is unbounded <b>"
   ]
  },
  {
   "cell_type": "code",
   "execution_count": 1,
   "id": "6d48b378-2d39-429e-879b-47b77c977eea",
   "metadata": {},
   "outputs": [],
   "source": [
    "import math"
   ]
  },
  {
   "cell_type": "code",
   "execution_count": 39,
   "id": "665d991b-c748-491b-8daa-5fdc38581620",
   "metadata": {},
   "outputs": [
    {
     "name": "stdout",
     "output_type": "stream",
     "text": [
      "5.0\n",
      "0.75\n"
     ]
    }
   ],
   "source": [
    "class Point:\n",
    "    def __init__(self , point_x = 0 , point_y = 0):\n",
    "        self.point_x = point_x\n",
    "        self.point_y = point_y\n",
    "class Line:\n",
    "    def __init__(self , point_x1 = 0 , point_x2 = 0):\n",
    "        self.point_x1 = point_x1\n",
    "        self.point_x2 = point_x2\n",
    "\n",
    "    def length(self):\n",
    "        d_point_x = self.point_x2.point_x - self.point_x1.point_x\n",
    "        d_point_y = self.point_x2.point_y - self.point_x1.point_y\n",
    "\n",
    "        square_x = d_point_x ** 2\n",
    "        square_y = d_point_y ** 2\n",
    "        \n",
    "        return math.sqrt(square_x + square_y)\n",
    "\n",
    "    def slope(self):\n",
    "        d_point_x = self.point_x2.point_x - self.point_x1.point_x\n",
    "        d_point_y = self.point_x2.point_y - self.point_x1.point_y\n",
    "        if self.point_x2.point_x != self.point_x1.point_x:\n",
    "            return d_point_x / d_point_y\n",
    "        else:\n",
    "            return None\n",
    "            \n",
    "point_one = Point(3,4)\n",
    "point_two = Point()\n",
    "segment = Line(point_one , point_two)\n",
    "\n",
    "print(segment.length())\n",
    "print(segment.slope())"
   ]
  },
  {
   "cell_type": "code",
   "execution_count": null,
   "id": "f2f7456b-3946-40e7-adc5-49b1c3e9e5e8",
   "metadata": {},
   "outputs": [],
   "source": []
  }
 ],
 "metadata": {
  "kernelspec": {
   "display_name": "Python 3 (ipykernel)",
   "language": "python",
   "name": "python3"
  },
  "language_info": {
   "codemirror_mode": {
    "name": "ipython",
    "version": 3
   },
   "file_extension": ".py",
   "mimetype": "text/x-python",
   "name": "python",
   "nbconvert_exporter": "python",
   "pygments_lexer": "ipython3",
   "version": "3.12.3"
  }
 },
 "nbformat": 4,
 "nbformat_minor": 5
}
